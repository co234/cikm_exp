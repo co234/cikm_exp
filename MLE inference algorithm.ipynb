{
 "cells": [
  {
   "cell_type": "code",
   "execution_count": 1,
   "metadata": {},
   "outputs": [],
   "source": [
    "import numpy as np\n",
    "import matplotlib.pyplot as plt\n",
    "from scipy import optimize\n",
    "from scipy.stats import expon\n",
    "from scipy.stats import uniform\n",
    "from scipy.stats import multivariate_normal\n",
    "from scipy.stats import norm"
   ]
  },
  {
   "cell_type": "markdown",
   "metadata": {},
   "source": [
    "## simulation for geometric browning motion"
   ]
  },
  {
   "cell_type": "code",
   "execution_count": 2,
   "metadata": {},
   "outputs": [],
   "source": [
    "c_1=1\n",
    "c_2=1\n",
    "sigma=2"
   ]
  },
  {
   "cell_type": "code",
   "execution_count": 3,
   "metadata": {},
   "outputs": [],
   "source": [
    "x0=1"
   ]
  },
  {
   "cell_type": "code",
   "execution_count": 4,
   "metadata": {},
   "outputs": [],
   "source": [
    "timestamps=np.array([0,1,2,3]) ## include 0"
   ]
  },
  {
   "cell_type": "code",
   "execution_count": 5,
   "metadata": {},
   "outputs": [],
   "source": [
    "def simu_GBM(theta,timestamps,x0,num_sample): ## assume we can only observe the process at timestamps\n",
    "    c_1=theta[0]\n",
    "    c_2=theta[1]\n",
    "    sigma=theta[2]\n",
    "    y=np.zeros((num_sample,len(timestamps))) ## y value\n",
    "    for i in range(num_sample):      ## simulate num-sample brwoning motions\n",
    "        mean_temp=0\n",
    "        for j in range(1,len(timestamps)):\n",
    "            y[i][j]=norm.rvs(loc=mean_temp,scale=np.sqrt(timestamps[j]-timestamps[j-1]))\n",
    "            mean_temp=y[i][j]\n",
    "    \n",
    "    for i in range(num_sample):\n",
    "        y[i]=timestamps**2*c_1/2+c_2*(timestamps*(np.log(np.maximum(timestamps,0.0001))-1))-sigma**2/2*timestamps+sigma*y[i]\n",
    "    y=x0*np.exp(y)\n",
    "    return y"
   ]
  },
  {
   "cell_type": "code",
   "execution_count": 6,
   "metadata": {},
   "outputs": [],
   "source": [
    "y=simu_GBM([c_1,c_2,sigma],timestamps,x0,5000)"
   ]
  },
  {
   "cell_type": "markdown",
   "metadata": {},
   "source": [
    "## inference with log-likelihood"
   ]
  },
  {
   "cell_type": "code",
   "execution_count": 16,
   "metadata": {},
   "outputs": [],
   "source": [
    "def log_likelihood(parameters,x0,timestamps,data):\n",
    "    c1=parameters[0]\n",
    "    c2=parameters[1]\n",
    "    sigma=parameters[2]\n",
    "    logl=0\n",
    "    for i in range(len(data)):\n",
    "        logl+=sum(-np.log(np.maximum(data[i]*sigma*np.sqrt(timestamps),0.0001))-(np.log(data[i])-np.log(x0)-c1/2*timestamps**2-\\\n",
    "                c2*timestamps*(np.log(np.maximum(timestamps,0.0001))-1)+sigma**2/2*timestamps)**2/2/sigma**2/np.maximum(timestamps,0.0001))\n",
    "    return -logl"
   ]
  },
  {
   "cell_type": "code",
   "execution_count": 17,
   "metadata": {},
   "outputs": [
    {
     "name": "stdout",
     "output_type": "stream",
     "text": [
      "Optimization terminated successfully.    (Exit mode 0)\n",
      "            Current function value: -55884.37299383789\n",
      "            Iterations: 11\n",
      "            Function evaluations: 62\n",
      "            Gradient evaluations: 11\n"
     ]
    }
   ],
   "source": [
    "parameters=np.array([1.2,0.7,3])\n",
    "res=optimize.minimize(log_likelihood, parameters,args=(x0,timestamps,y), method='SLSQP', bounds=((0.001,10),(0.001,10),(0.001,10)), options={'disp': True})"
   ]
  },
  {
   "cell_type": "code",
   "execution_count": 18,
   "metadata": {},
   "outputs": [
    {
     "data": {
      "text/plain": [
       "array([0.96447079, 0.99554173, 1.98905574])"
      ]
     },
     "execution_count": 18,
     "metadata": {},
     "output_type": "execute_result"
    }
   ],
   "source": [
    "res.x"
   ]
  }
 ],
 "metadata": {
  "kernelspec": {
   "display_name": "Python 3",
   "language": "python",
   "name": "python3"
  },
  "language_info": {
   "codemirror_mode": {
    "name": "ipython",
    "version": 3
   },
   "file_extension": ".py",
   "mimetype": "text/x-python",
   "name": "python",
   "nbconvert_exporter": "python",
   "pygments_lexer": "ipython3",
   "version": "3.6.7"
  }
 },
 "nbformat": 4,
 "nbformat_minor": 2
}
